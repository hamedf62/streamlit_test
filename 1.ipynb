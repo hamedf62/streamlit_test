{
 "cells": [
  {
   "cell_type": "code",
   "execution_count": 2,
   "metadata": {},
   "outputs": [
    {
     "name": "stdout",
     "output_type": "stream",
     "text": [
      "My public IP address is: 3.111.97.82\n"
     ]
    }
   ],
   "source": [
    "import requests\n",
    "\n",
    "def get_public_ip():\n",
    "    try:\n",
    "        response = requests.get('https://httpbin.org/ip')\n",
    "        ip = response.json()['origin']\n",
    "        print(f\"My public IP address is: {ip}\")\n",
    "    except requests.RequestException as e:\n",
    "        print(\"Couldn't get the IP address:\", e)\n",
    "\n",
    "get_public_ip()\n"
   ]
  }
 ],
 "metadata": {
  "kernelspec": {
   "display_name": "myvenv",
   "language": "python",
   "name": "python3"
  },
  "language_info": {
   "codemirror_mode": {
    "name": "ipython",
    "version": 3
   },
   "file_extension": ".py",
   "mimetype": "text/x-python",
   "name": "python",
   "nbconvert_exporter": "python",
   "pygments_lexer": "ipython3",
   "version": "3.11.6"
  }
 },
 "nbformat": 4,
 "nbformat_minor": 2
}
